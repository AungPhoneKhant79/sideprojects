{
 "cells": [
  {
   "cell_type": "markdown",
   "id": "83deca91-1599-447d-bc6a-8697a362e8a5",
   "metadata": {},
   "source": [
    "PART 1A"
   ]
  },
  {
   "cell_type": "code",
   "execution_count": 1,
   "id": "f3bd0f29-4d18-45cd-a569-afcd91bfb283",
   "metadata": {},
   "outputs": [
    {
     "name": "stderr",
     "output_type": "stream",
     "text": [
      "2025-09-30 18:08:23.633332: I tensorflow/core/util/port.cc:153] oneDNN custom operations are on. You may see slightly different numerical results due to floating-point round-off errors from different computation orders. To turn them off, set the environment variable `TF_ENABLE_ONEDNN_OPTS=0`.\n",
      "2025-09-30 18:08:23.646691: E external/local_xla/xla/stream_executor/cuda/cuda_fft.cc:467] Unable to register cuFFT factory: Attempting to register factory for plugin cuFFT when one has already been registered\n",
      "WARNING: All log messages before absl::InitializeLog() is called are written to STDERR\n",
      "E0000 00:00:1759226903.658923    1715 cuda_dnn.cc:8579] Unable to register cuDNN factory: Attempting to register factory for plugin cuDNN when one has already been registered\n",
      "E0000 00:00:1759226903.662505    1715 cuda_blas.cc:1407] Unable to register cuBLAS factory: Attempting to register factory for plugin cuBLAS when one has already been registered\n",
      "W0000 00:00:1759226903.673767    1715 computation_placer.cc:177] computation placer already registered. Please check linkage and avoid linking the same target more than once.\n",
      "W0000 00:00:1759226903.673782    1715 computation_placer.cc:177] computation placer already registered. Please check linkage and avoid linking the same target more than once.\n",
      "W0000 00:00:1759226903.673783    1715 computation_placer.cc:177] computation placer already registered. Please check linkage and avoid linking the same target more than once.\n",
      "W0000 00:00:1759226903.673784    1715 computation_placer.cc:177] computation placer already registered. Please check linkage and avoid linking the same target more than once.\n",
      "2025-09-30 18:08:23.677826: I tensorflow/core/platform/cpu_feature_guard.cc:210] This TensorFlow binary is optimized to use available CPU instructions in performance-critical operations.\n",
      "To enable the following instructions: AVX2 AVX_VNNI FMA, in other operations, rebuild TensorFlow with the appropriate compiler flags.\n"
     ]
    },
    {
     "name": "stdout",
     "output_type": "stream",
     "text": [
      "Found 13492 files belonging to 100 classes.\n"
     ]
    },
    {
     "name": "stderr",
     "output_type": "stream",
     "text": [
      "I0000 00:00:1759226927.165440    1715 gpu_device.cc:2019] Created device /job:localhost/replica:0/task:0/device:GPU:0 with 3623 MB memory:  -> device: 0, name: NVIDIA GeForce RTX 3050 6GB Laptop GPU, pci bus id: 0000:01:00.0, compute capability: 8.6\n"
     ]
    },
    {
     "name": "stdout",
     "output_type": "stream",
     "text": [
      "Found 500 files belonging to 100 classes.\n",
      "Found 500 files belonging to 100 classes.\n",
      "num_classes: 100\n"
     ]
    }
   ],
   "source": [
    "# --- paths ---\n",
    "base_dir = \"/mnt/c/School files/Year 2 Modules/Learning with side projects/CNN projects/sports_classification\"\n",
    "train_dir = base_dir + \"/train\"\n",
    "val_dir   = base_dir + \"/valid\"\n",
    "test_dir  = base_dir + \"/test\"\n",
    "\n",
    "# --- config ---\n",
    "IMG_SIZE = (224, 224)\n",
    "BATCH    = 16\n",
    "SEED     = 1337\n",
    "\n",
    "import tensorflow as tf\n",
    "\n",
    "# Load datasets\n",
    "train_ds_raw = tf.keras.utils.image_dataset_from_directory(\n",
    "    train_dir, image_size=IMG_SIZE, batch_size=BATCH, label_mode=\"int\",\n",
    "    shuffle=True, seed=SEED\n",
    ")\n",
    "val_ds_raw = tf.keras.utils.image_dataset_from_directory(\n",
    "    val_dir, image_size=IMG_SIZE, batch_size=BATCH, label_mode=\"int\",\n",
    "    shuffle=False\n",
    ")\n",
    "test_ds_raw = tf.keras.utils.image_dataset_from_directory(\n",
    "    test_dir, image_size=IMG_SIZE, batch_size=BATCH, label_mode=\"int\",\n",
    "    shuffle=False\n",
    ")\n",
    "\n",
    "class_names = train_ds_raw.class_names\n",
    "num_classes = len(class_names)\n",
    "print(\"num_classes:\", num_classes)\n",
    "\n",
    "# Prefetch/shuffle\n",
    "train_ds = train_ds_raw.shuffle(256).prefetch(1)\n",
    "val_ds   = val_ds_raw.prefetch(1)\n",
    "test_ds  = test_ds_raw.prefetch(1)\n"
   ]
  },
  {
   "cell_type": "markdown",
   "id": "50a637a7-5c2d-4afe-9715-655119cb8bde",
   "metadata": {},
   "source": [
    "PART 2A"
   ]
  },
  {
   "cell_type": "code",
   "execution_count": 3,
   "id": "5f473d56-00da-4f50-9ef8-08e280e121e8",
   "metadata": {},
   "outputs": [
    {
     "name": "stdout",
     "output_type": "stream",
     "text": [
      "Stage 1: train head\n",
      "Epoch 1/10\n"
     ]
    },
    {
     "name": "stderr",
     "output_type": "stream",
     "text": [
      "I0000 00:00:1758787326.343516     937 cuda_dnn.cc:529] Loaded cuDNN version 90300\n"
     ]
    },
    {
     "name": "stdout",
     "output_type": "stream",
     "text": [
      "\u001b[1m844/844\u001b[0m \u001b[32m━━━━━━━━━━━━━━━━━━━━\u001b[0m\u001b[37m\u001b[0m \u001b[1m99s\u001b[0m 91ms/step - accuracy: 0.5091 - loss: 2.3468 - val_accuracy: 0.9200 - val_loss: 0.4013 - learning_rate: 0.0010\n",
      "Epoch 2/10\n",
      "\u001b[1m844/844\u001b[0m \u001b[32m━━━━━━━━━━━━━━━━━━━━\u001b[0m\u001b[37m\u001b[0m \u001b[1m65s\u001b[0m 74ms/step - accuracy: 0.8712 - loss: 0.5442 - val_accuracy: 0.9300 - val_loss: 0.2650 - learning_rate: 0.0010\n",
      "Epoch 3/10\n",
      "\u001b[1m844/844\u001b[0m \u001b[32m━━━━━━━━━━━━━━━━━━━━\u001b[0m\u001b[37m\u001b[0m \u001b[1m67s\u001b[0m 73ms/step - accuracy: 0.9051 - loss: 0.3761 - val_accuracy: 0.9480 - val_loss: 0.2191 - learning_rate: 0.0010\n",
      "Epoch 4/10\n",
      "\u001b[1m844/844\u001b[0m \u001b[32m━━━━━━━━━━━━━━━━━━━━\u001b[0m\u001b[37m\u001b[0m \u001b[1m68s\u001b[0m 74ms/step - accuracy: 0.9201 - loss: 0.3046 - val_accuracy: 0.9400 - val_loss: 0.1926 - learning_rate: 0.0010\n",
      "Epoch 5/10\n",
      "\u001b[1m844/844\u001b[0m \u001b[32m━━━━━━━━━━━━━━━━━━━━\u001b[0m\u001b[37m\u001b[0m \u001b[1m69s\u001b[0m 74ms/step - accuracy: 0.9285 - loss: 0.2530 - val_accuracy: 0.9420 - val_loss: 0.1805 - learning_rate: 0.0010\n",
      "Epoch 6/10\n",
      "\u001b[1m844/844\u001b[0m \u001b[32m━━━━━━━━━━━━━━━━━━━━\u001b[0m\u001b[37m\u001b[0m \u001b[1m69s\u001b[0m 74ms/step - accuracy: 0.9397 - loss: 0.2148 - val_accuracy: 0.9540 - val_loss: 0.1596 - learning_rate: 0.0010\n",
      "Epoch 7/10\n",
      "\u001b[1m844/844\u001b[0m \u001b[32m━━━━━━━━━━━━━━━━━━━━\u001b[0m\u001b[37m\u001b[0m \u001b[1m67s\u001b[0m 74ms/step - accuracy: 0.9468 - loss: 0.1981 - val_accuracy: 0.9560 - val_loss: 0.1586 - learning_rate: 0.0010\n",
      "Epoch 8/10\n",
      "\u001b[1m844/844\u001b[0m \u001b[32m━━━━━━━━━━━━━━━━━━━━\u001b[0m\u001b[37m\u001b[0m \u001b[1m69s\u001b[0m 74ms/step - accuracy: 0.9507 - loss: 0.1793 - val_accuracy: 0.9600 - val_loss: 0.1555 - learning_rate: 0.0010\n",
      "Epoch 9/10\n",
      "\u001b[1m844/844\u001b[0m \u001b[32m━━━━━━━━━━━━━━━━━━━━\u001b[0m\u001b[37m\u001b[0m \u001b[1m69s\u001b[0m 75ms/step - accuracy: 0.9531 - loss: 0.1609 - val_accuracy: 0.9500 - val_loss: 0.1631 - learning_rate: 0.0010\n",
      "Epoch 10/10\n",
      "\u001b[1m844/844\u001b[0m \u001b[32m━━━━━━━━━━━━━━━━━━━━\u001b[0m\u001b[37m\u001b[0m \u001b[1m71s\u001b[0m 78ms/step - accuracy: 0.9554 - loss: 0.1553 - val_accuracy: 0.9500 - val_loss: 0.1533 - learning_rate: 0.0010\n",
      "Restoring model weights from the end of the best epoch: 10.\n",
      "Stage 2: fine-tune\n",
      "Epoch 1/10\n"
     ]
    },
    {
     "name": "stderr",
     "output_type": "stream",
     "text": [
      "E0000 00:00:1758788032.777090     809 meta_optimizer.cc:967] layout failed: INVALID_ARGUMENT: Size of values 0 does not match size of permutation 4 @ fanin shape inStatefulPartitionedCall/functional_1_1/block2b_drop_1/stateless_dropout/SelectV2-2-TransposeNHWCToNCHW-LayoutOptimizer\n"
     ]
    },
    {
     "name": "stdout",
     "output_type": "stream",
     "text": [
      "\u001b[1m844/844\u001b[0m \u001b[32m━━━━━━━━━━━━━━━━━━━━\u001b[0m\u001b[37m\u001b[0m \u001b[1m119s\u001b[0m 118ms/step - accuracy: 0.8271 - loss: 0.6446 - val_accuracy: 0.9460 - val_loss: 0.1861 - learning_rate: 1.0000e-04\n",
      "Epoch 2/10\n",
      "\u001b[1m844/844\u001b[0m \u001b[32m━━━━━━━━━━━━━━━━━━━━\u001b[0m\u001b[37m\u001b[0m \u001b[1m101s\u001b[0m 114ms/step - accuracy: 0.9421 - loss: 0.2044 - val_accuracy: 0.9480 - val_loss: 0.1536 - learning_rate: 1.0000e-04\n",
      "Epoch 3/10\n",
      "\u001b[1m844/844\u001b[0m \u001b[32m━━━━━━━━━━━━━━━━━━━━\u001b[0m\u001b[37m\u001b[0m \u001b[1m105s\u001b[0m 119ms/step - accuracy: 0.9599 - loss: 0.1484 - val_accuracy: 0.9580 - val_loss: 0.1468 - learning_rate: 1.0000e-04\n",
      "Epoch 4/10\n",
      "\u001b[1m844/844\u001b[0m \u001b[32m━━━━━━━━━━━━━━━━━━━━\u001b[0m\u001b[37m\u001b[0m \u001b[1m106s\u001b[0m 121ms/step - accuracy: 0.9711 - loss: 0.1116 - val_accuracy: 0.9580 - val_loss: 0.1269 - learning_rate: 1.0000e-04\n",
      "Epoch 5/10\n",
      "\u001b[1m844/844\u001b[0m \u001b[32m━━━━━━━━━━━━━━━━━━━━\u001b[0m\u001b[37m\u001b[0m \u001b[1m104s\u001b[0m 119ms/step - accuracy: 0.9686 - loss: 0.1059 - val_accuracy: 0.9580 - val_loss: 0.1342 - learning_rate: 1.0000e-04\n",
      "Epoch 6/10\n",
      "\u001b[1m844/844\u001b[0m \u001b[32m━━━━━━━━━━━━━━━━━━━━\u001b[0m\u001b[37m\u001b[0m \u001b[1m105s\u001b[0m 118ms/step - accuracy: 0.9793 - loss: 0.0810 - val_accuracy: 0.9560 - val_loss: 0.1256 - learning_rate: 1.0000e-04\n",
      "Epoch 7/10\n",
      "\u001b[1m844/844\u001b[0m \u001b[32m━━━━━━━━━━━━━━━━━━━━\u001b[0m\u001b[37m\u001b[0m \u001b[1m103s\u001b[0m 115ms/step - accuracy: 0.9791 - loss: 0.0735 - val_accuracy: 0.9560 - val_loss: 0.1307 - learning_rate: 1.0000e-04\n",
      "Epoch 8/10\n",
      "\u001b[1m844/844\u001b[0m \u001b[32m━━━━━━━━━━━━━━━━━━━━\u001b[0m\u001b[37m\u001b[0m \u001b[1m104s\u001b[0m 117ms/step - accuracy: 0.9830 - loss: 0.0635 - val_accuracy: 0.9560 - val_loss: 0.1239 - learning_rate: 1.0000e-04\n",
      "Epoch 9/10\n",
      "\u001b[1m844/844\u001b[0m \u001b[32m━━━━━━━━━━━━━━━━━━━━\u001b[0m\u001b[37m\u001b[0m \u001b[1m105s\u001b[0m 120ms/step - accuracy: 0.9875 - loss: 0.0501 - val_accuracy: 0.9660 - val_loss: 0.1292 - learning_rate: 1.0000e-04\n",
      "Epoch 10/10\n",
      "\u001b[1m844/844\u001b[0m \u001b[32m━━━━━━━━━━━━━━━━━━━━\u001b[0m\u001b[37m\u001b[0m \u001b[1m103s\u001b[0m 114ms/step - accuracy: 0.9875 - loss: 0.0465 - val_accuracy: 0.9580 - val_loss: 0.1277 - learning_rate: 1.0000e-04\n",
      "Restoring model weights from the end of the best epoch: 8.\n",
      "Evaluating on test set…\n",
      "\u001b[1m32/32\u001b[0m \u001b[32m━━━━━━━━━━━━━━━━━━━━\u001b[0m\u001b[37m\u001b[0m \u001b[1m4s\u001b[0m 115ms/step - accuracy: 0.9830 - loss: 0.0726\n"
     ]
    },
    {
     "name": "stderr",
     "output_type": "stream",
     "text": [
      "WARNING:absl:You are saving your model as an HDF5 file via `model.save()` or `keras.saving.save_model(model)`. This file format is considered legacy. We recommend using instead the native Keras format, e.g. `model.save('my_model.keras')` or `keras.saving.save_model(model, 'my_model.keras')`. \n"
     ]
    },
    {
     "name": "stdout",
     "output_type": "stream",
     "text": [
      "Test accuracy: 0.9760\n"
     ]
    }
   ],
   "source": [
    "from tensorflow import keras\n",
    "from tensorflow.keras import layers\n",
    "\n",
    "# Model with EfficientNetB0 backbone\n",
    "inputs = keras.Input(shape=IMG_SIZE + (3,), name=\"image\")\n",
    "aug = keras.Sequential([\n",
    "    layers.RandomFlip(\"horizontal\"),\n",
    "    layers.RandomRotation(0.05),\n",
    "    layers.RandomZoom(0.1),\n",
    "    layers.RandomTranslation(0.05, 0.05),\n",
    "], name=\"augment\")\n",
    "\n",
    "x = aug(inputs)\n",
    "base = keras.applications.EfficientNetB0(\n",
    "    include_top=False, weights=\"imagenet\", input_tensor=x\n",
    ")\n",
    "base.trainable = False\n",
    "\n",
    "x = layers.GlobalAveragePooling2D()(base.output)\n",
    "x = layers.Dropout(0.3)(x)\n",
    "outputs = layers.Dense(num_classes, activation=\"softmax\", dtype=\"float32\")(x)\n",
    "\n",
    "model = keras.Model(inputs, outputs)\n",
    "model.compile(optimizer=keras.optimizers.Adam(1e-3),\n",
    "              loss=\"sparse_categorical_crossentropy\",\n",
    "              metrics=[\"accuracy\"])\n",
    "\n",
    "early_stop = keras.callbacks.EarlyStopping(monitor=\"val_loss\", patience=8,\n",
    "                                           restore_best_weights=True, verbose=1)\n",
    "reduce_lr  = keras.callbacks.ReduceLROnPlateau(monitor=\"val_loss\", factor=0.5,\n",
    "                                               patience=3, min_lr=1e-6, verbose=1)\n",
    "\n",
    "print(\"Stage 1: train head\")\n",
    "history1 = model.fit(train_ds, validation_data=val_ds, epochs=10,\n",
    "                     callbacks=[reduce_lr, early_stop])\n",
    "\n",
    "# Fine-tune top ~30%\n",
    "for layer in base.layers[: int(0.7 * len(base.layers))]:\n",
    "    layer.trainable = False\n",
    "for layer in base.layers[int(0.7 * len(base.layers)):]:\n",
    "    layer.trainable = True\n",
    "\n",
    "model.compile(optimizer=keras.optimizers.Adam(1e-4),\n",
    "              loss=\"sparse_categorical_crossentropy\",\n",
    "              metrics=[\"accuracy\"])\n",
    "\n",
    "print(\"Stage 2: fine-tune\")\n",
    "history2 = model.fit(train_ds, validation_data=val_ds, epochs=10,\n",
    "                     callbacks=[reduce_lr, early_stop])\n",
    "\n",
    "print(\"Evaluating on test set…\")\n",
    "test_loss, test_acc = model.evaluate(test_ds)\n",
    "print(f\"Test accuracy: {test_acc:.4f}\")\n",
    "\n",
    "# Optional: save your trained model\n",
    "model.save(\"my_sports_model.h5\")\n"
   ]
  },
  {
   "cell_type": "code",
   "execution_count": 5,
   "id": "4cc031b6-368f-4a4a-b5a8-e567b5a8edc1",
   "metadata": {},
   "outputs": [
    {
     "name": "stderr",
     "output_type": "stream",
     "text": [
      "WARNING:absl:You are saving your model as an HDF5 file via `model.save()` or `keras.saving.save_model(model)`. This file format is considered legacy. We recommend using instead the native Keras format, e.g. `model.save('my_model.keras')` or `keras.saving.save_model(model, 'my_model.keras')`. \n"
     ]
    },
    {
     "name": "stdout",
     "output_type": "stream",
     "text": [
      "✅ Model saved as: sports_effnetb0_20250925-163141.keras and sports_effnetb0_20250925-163141.h5\n"
     ]
    }
   ],
   "source": [
    "from datetime import datetime\n",
    "\n",
    "# timestamped filenames so you don’t overwrite older runs\n",
    "stamp = datetime.now().strftime(\"%Y%m%d-%H%M%S\")\n",
    "\n",
    "# recommended (new format)\n",
    "model.save(f\"sports_effnetb0_{stamp}.keras\")\n",
    "\n",
    "# optional legacy format\n",
    "model.save(f\"sports_effnetb0_{stamp}.h5\")\n",
    "\n",
    "print(\"✅ Model saved as:\", f\"sports_effnetb0_{stamp}.keras\", \"and\", f\"sports_effnetb0_{stamp}.h5\")\n"
   ]
  },
  {
   "cell_type": "code",
   "execution_count": null,
   "id": "435bf6c2-96f4-439c-ab25-9df915056f7e",
   "metadata": {},
   "outputs": [],
   "source": [
    "# AUTHOR'S 98.40% accuracy model\n",
    "from tensorflow import keras\n",
    "from tensorflow.keras.layers import DepthwiseConv2D as TFDepthwiseConv2D\n",
    "\n",
    "# Shim: ignore unexpected 'groups' argument\n",
    "class DepthwiseConv2D_NoGroups(TFDepthwiseConv2D):\n",
    "    def __init__(self, *args, groups=1, **kwargs):\n",
    "        super().__init__(*args, **kwargs)\n",
    "\n",
    "# Load pre-trained .h5 model\n",
    "model = keras.models.load_model(\n",
    "    \"EfficientNetB0-100-(224 X 224)- 98.40.h5\",\n",
    "    custom_objects={\"DepthwiseConv2D\": DepthwiseConv2D_NoGroups},\n",
    "    compile=False\n",
    ")\n",
    "\n",
    "# Compile for evaluation\n",
    "model.compile(optimizer=keras.optimizers.Adam(1e-4),\n",
    "              loss=\"sparse_categorical_crossentropy\",\n",
    "              metrics=[\"accuracy\"])\n",
    "\n",
    "# Evaluate on YOUR test set\n",
    "test_loss, test_acc = model.evaluate(test_ds)\n",
    "print(f\"Test accuracy from pre-trained .h5: {test_acc:.4f}\")\n"
   ]
  },
  {
   "cell_type": "code",
   "execution_count": 5,
   "id": "516339ea-fbd3-45ca-a778-2c0ee4098092",
   "metadata": {},
   "outputs": [
    {
     "name": "stdout",
     "output_type": "stream",
     "text": [
      "Evaluate on test:\n"
     ]
    },
    {
     "name": "stderr",
     "output_type": "stream",
     "text": [
      "WARNING: All log messages before absl::InitializeLog() is called are written to STDERR\n",
      "I0000 00:00:1759227523.355163    1852 service.cc:152] XLA service 0x7162e00023d0 initialized for platform CUDA (this does not guarantee that XLA will be used). Devices:\n",
      "I0000 00:00:1759227523.355196    1852 service.cc:160]   StreamExecutor device (0): NVIDIA GeForce RTX 3050 6GB Laptop GPU, Compute Capability 8.6\n",
      "2025-09-30 18:18:43.488464: I tensorflow/compiler/mlir/tensorflow/utils/dump_mlir_util.cc:269] disabling MLIR crash reproducer, set env var `MLIR_CRASH_REPRODUCER_DIRECTORY` to enable.\n",
      "I0000 00:00:1759227524.043995    1852 cuda_dnn.cc:529] Loaded cuDNN version 90300\n"
     ]
    },
    {
     "name": "stdout",
     "output_type": "stream",
     "text": [
      "\u001b[1m 7/32\u001b[0m \u001b[32m━━━━\u001b[0m\u001b[37m━━━━━━━━━━━━━━━━\u001b[0m \u001b[1m0s\u001b[0m 21ms/step - accuracy: 0.9932 - loss: 3.3376"
     ]
    },
    {
     "name": "stderr",
     "output_type": "stream",
     "text": [
      "I0000 00:00:1759227531.619394    1852 device_compiler.h:188] Compiled cluster using XLA!  This line is logged at most once for the lifetime of the process.\n"
     ]
    },
    {
     "name": "stdout",
     "output_type": "stream",
     "text": [
      "\u001b[1m32/32\u001b[0m \u001b[32m━━━━━━━━━━━━━━━━━━━━\u001b[0m\u001b[37m\u001b[0m \u001b[1m19s\u001b[0m 251ms/step - accuracy: 0.9850 - loss: 3.3680\n",
      "[3.3856730461120605, 0.9800000190734863]\n"
     ]
    },
    {
     "ename": "ValueError",
     "evalue": "You called `set_weights(weights)` on layer 'functional' with a weight list of length 367, but the layer was expecting 314 weights.",
     "output_type": "error",
     "traceback": [
      "\u001b[31m---------------------------------------------------------------------------\u001b[39m",
      "\u001b[31mValueError\u001b[39m                                Traceback (most recent call last)",
      "\u001b[36mCell\u001b[39m\u001b[36m \u001b[39m\u001b[32mIn[5]\u001b[39m\u001b[32m, line 43\u001b[39m\n\u001b[32m     40\u001b[39m outputs = layers.Dense(num_classes, activation=\u001b[33m\"\u001b[39m\u001b[33msoftmax\u001b[39m\u001b[33m\"\u001b[39m, dtype=\u001b[33m\"\u001b[39m\u001b[33mfloat32\u001b[39m\u001b[33m\"\u001b[39m)(y)\n\u001b[32m     41\u001b[39m clean = keras.Model(inputs, outputs)\n\u001b[32m---> \u001b[39m\u001b[32m43\u001b[39m \u001b[43mclean\u001b[49m\u001b[43m.\u001b[49m\u001b[43mset_weights\u001b[49m\u001b[43m(\u001b[49m\u001b[43mmodel\u001b[49m\u001b[43m.\u001b[49m\u001b[43mget_weights\u001b[49m\u001b[43m(\u001b[49m\u001b[43m)\u001b[49m\u001b[43m)\u001b[49m\n\u001b[32m     44\u001b[39m clean.save(\u001b[33m\"\u001b[39m\u001b[33mclean_effnetb0.keras\u001b[39m\u001b[33m\"\u001b[39m)\n\u001b[32m     45\u001b[39m clean.save(\u001b[33m\"\u001b[39m\u001b[33mclean_effnetb0.h5\u001b[39m\u001b[33m\"\u001b[39m)\n",
      "\u001b[36mFile \u001b[39m\u001b[32m~/tf_gpu/lib/python3.12/site-packages/keras/src/layers/layer.py:731\u001b[39m, in \u001b[36mLayer.set_weights\u001b[39m\u001b[34m(self, weights)\u001b[39m\n\u001b[32m    729\u001b[39m layer_weights = \u001b[38;5;28mself\u001b[39m.weights\n\u001b[32m    730\u001b[39m \u001b[38;5;28;01mif\u001b[39;00m \u001b[38;5;28mlen\u001b[39m(layer_weights) != \u001b[38;5;28mlen\u001b[39m(weights):\n\u001b[32m--> \u001b[39m\u001b[32m731\u001b[39m     \u001b[38;5;28;01mraise\u001b[39;00m \u001b[38;5;167;01mValueError\u001b[39;00m(\n\u001b[32m    732\u001b[39m         \u001b[33mf\u001b[39m\u001b[33m\"\u001b[39m\u001b[33mYou called `set_weights(weights)` on layer \u001b[39m\u001b[33m'\u001b[39m\u001b[38;5;132;01m{\u001b[39;00m\u001b[38;5;28mself\u001b[39m.name\u001b[38;5;132;01m}\u001b[39;00m\u001b[33m'\u001b[39m\u001b[33m \u001b[39m\u001b[33m\"\u001b[39m\n\u001b[32m    733\u001b[39m         \u001b[33mf\u001b[39m\u001b[33m\"\u001b[39m\u001b[33mwith a weight list of length \u001b[39m\u001b[38;5;132;01m{\u001b[39;00m\u001b[38;5;28mlen\u001b[39m(weights)\u001b[38;5;132;01m}\u001b[39;00m\u001b[33m, but the layer \u001b[39m\u001b[33m\"\u001b[39m\n\u001b[32m    734\u001b[39m         \u001b[33mf\u001b[39m\u001b[33m\"\u001b[39m\u001b[33mwas expecting \u001b[39m\u001b[38;5;132;01m{\u001b[39;00m\u001b[38;5;28mlen\u001b[39m(layer_weights)\u001b[38;5;132;01m}\u001b[39;00m\u001b[33m weights.\u001b[39m\u001b[33m\"\u001b[39m\n\u001b[32m    735\u001b[39m     )\n\u001b[32m    736\u001b[39m \u001b[38;5;28;01mfor\u001b[39;00m variable, value \u001b[38;5;129;01min\u001b[39;00m \u001b[38;5;28mzip\u001b[39m(layer_weights, weights):\n\u001b[32m    737\u001b[39m     \u001b[38;5;28;01mif\u001b[39;00m variable.shape != value.shape:\n",
      "\u001b[31mValueError\u001b[39m: You called `set_weights(weights)` on layer 'functional' with a weight list of length 367, but the layer was expecting 314 weights."
     ]
    }
   ],
   "source": [
    "from tensorflow import keras\n",
    "from tensorflow.keras.layers import DepthwiseConv2D as TFDepthwiseConv2D\n",
    "import tensorflow as tf\n",
    "from tensorflow.keras import layers\n",
    "\n",
    "MODEL_PATH = \"./sports_effnetb0_20250925-163141.h5\"  # your file\n",
    "\n",
    "# 1) Define a class with the exact saved name; accept groups, ignore it\n",
    "class DepthwiseConv2D_NoGroups(TFDepthwiseConv2D):\n",
    "    def __init__(self, *args, groups=1, **kwargs):\n",
    "        super().__init__(*args, **kwargs)\n",
    "\n",
    "# 2) Load using BOTH names in custom_objects (covers all cases)\n",
    "model = keras.models.load_model(\n",
    "    MODEL_PATH,\n",
    "    custom_objects={\n",
    "        \"DepthwiseConv2D_NoGroups\": DepthwiseConv2D_NoGroups,\n",
    "        \"DepthwiseConv2D\": DepthwiseConv2D_NoGroups,\n",
    "    },\n",
    "    compile=False\n",
    ")\n",
    "\n",
    "# 3) Compile + (optional) quick evaluate\n",
    "model.compile(optimizer=keras.optimizers.Adam(1e-4),\n",
    "              loss=\"sparse_categorical_crossentropy\",\n",
    "              metrics=[\"accuracy\"])\n",
    "print(\"Evaluate on test:\")\n",
    "print(model.evaluate(test_ds))\n",
    "\n",
    "# 4) Save CLEAN copies (no custom layer needed next time)\n",
    "#    Rebuild minimal same-topology EfficientNetB0 head, copy weights, save.\n",
    "IMG_SIZE = (224, 224) if 'IMG_SIZE' not in globals() else IMG_SIZE\n",
    "num_classes = 100 if 'num_classes' not in globals() else num_classes\n",
    "\n",
    "inputs = keras.Input(shape=IMG_SIZE + (3,))\n",
    "x = inputs\n",
    "base = tf.keras.applications.EfficientNetB0(include_top=False, weights=None, input_tensor=x)\n",
    "y = layers.GlobalAveragePooling2D()(base.output)\n",
    "y = layers.Dropout(0.3)(y)\n",
    "outputs = layers.Dense(num_classes, activation=\"softmax\", dtype=\"float32\")(y)\n",
    "clean = keras.Model(inputs, outputs)\n",
    "\n",
    "clean.set_weights(model.get_weights())\n",
    "clean.save(\"clean_effnetb0.keras\")\n",
    "clean.save(\"clean_effnetb0.h5\")\n",
    "print(\"Saved clean models: clean_effnetb0.keras / clean_effnetb0.h5 (these won’t need custom_objects)\")\n"
   ]
  },
  {
   "cell_type": "code",
   "execution_count": 6,
   "id": "f7ba22d9-15d3-401f-8fda-31253b6b6142",
   "metadata": {},
   "outputs": [
    {
     "name": "stderr",
     "output_type": "stream",
     "text": [
      "2025-09-30 18:44:47.928495: I tensorflow/core/framework/local_rendezvous.cc:407] Local rendezvous is aborting with status: OUT_OF_RANGE: End of sequence\n"
     ]
    },
    {
     "name": "stdout",
     "output_type": "stream",
     "text": [
      "Top-1: 0.9800 | Top-5: 1.0000\n",
      "saved: analysis_outputs/confusion_matrix_counts.csv, analysis_outputs/confusion_matrix_normalized.csv, analysis_outputs/confusion_matrix_normalized.png, analysis_outputs/classification_report.csv\n"
     ]
    }
   ],
   "source": [
    "import os, numpy as np, pandas as pd\n",
    "from sklearn.metrics import confusion_matrix, classification_report, top_k_accuracy_score\n",
    "import matplotlib.pyplot as plt\n",
    "\n",
    "OUT = \"analysis_outputs\"; os.makedirs(OUT, exist_ok=True)\n",
    "\n",
    "# 1) collect y_true, y_probs, y_pred\n",
    "y_true, y_probs = [], []\n",
    "for xb, yb in test_ds:\n",
    "    probs = model.predict(xb, verbose=0)\n",
    "    y_probs.append(probs)\n",
    "    y_true.append(yb.numpy())\n",
    "y_true = np.concatenate(y_true)\n",
    "y_probs = np.concatenate(y_probs)\n",
    "y_pred = y_probs.argmax(axis=1)\n",
    "\n",
    "# 2) confusion matrix (counts + normalized) + plot\n",
    "cm = confusion_matrix(y_true, y_pred, labels=range(num_classes))\n",
    "cm_norm = cm.astype(float) / (cm.sum(axis=1, keepdims=True) + 1e-9)\n",
    "\n",
    "pd.DataFrame(cm, index=class_names, columns=class_names).to_csv(f\"{OUT}/confusion_matrix_counts.csv\")\n",
    "pd.DataFrame(cm_norm, index=class_names, columns=class_names).to_csv(f\"{OUT}/confusion_matrix_normalized.csv\")\n",
    "\n",
    "plt.figure(figsize=(16,16), dpi=200)\n",
    "plt.imshow(cm_norm, interpolation=\"nearest\")\n",
    "plt.title(\"Confusion Matrix (Normalized)\")\n",
    "plt.colorbar(fraction=0.046, pad=0.04)\n",
    "N = max(1, len(class_names)//20)\n",
    "ticks = list(range(0, len(class_names), N))\n",
    "plt.xticks(ticks, [class_names[i][:12] for i in ticks], rotation=90)\n",
    "plt.yticks(ticks, [class_names[i][:12] for i in ticks])\n",
    "plt.tight_layout()\n",
    "plt.savefig(f\"{OUT}/confusion_matrix_normalized.png\"); plt.close()\n",
    "\n",
    "# 3) per-class precision / recall / f1\n",
    "rep = classification_report(y_true, y_pred, target_names=class_names, output_dict=True, zero_division=0)\n",
    "pd.DataFrame(rep).to_csv(f\"{OUT}/classification_report.csv\")\n",
    "\n",
    "# 4) optional: top-5 accuracy for README\n",
    "try:\n",
    "    top5 = top_k_accuracy_score(y_true, y_probs, k=5, labels=range(num_classes))\n",
    "    print(f\"Top-1: {(y_pred==y_true).mean():.4f} | Top-5: {top5:.4f}\")\n",
    "except Exception:\n",
    "    print(f\"Top-1: {(y_pred==y_true).mean():.4f} (top-5 skipped)\")\n",
    "\n",
    "print(\"saved:\",\n",
    "      f\"{OUT}/confusion_matrix_counts.csv,\",\n",
    "      f\"{OUT}/confusion_matrix_normalized.csv,\",\n",
    "      f\"{OUT}/confusion_matrix_normalized.png,\",\n",
    "      f\"{OUT}/classification_report.csv\")\n"
   ]
  },
  {
   "cell_type": "code",
   "execution_count": null,
   "id": "8d043c5c-4f34-465b-9aab-d4d3ed6f9a15",
   "metadata": {},
   "outputs": [],
   "source": []
  }
 ],
 "metadata": {
  "kernelspec": {
   "display_name": "Python 3.12 (TensorFlow GPU)",
   "language": "python",
   "name": "tf_gpu"
  },
  "language_info": {
   "codemirror_mode": {
    "name": "ipython",
    "version": 3
   },
   "file_extension": ".py",
   "mimetype": "text/x-python",
   "name": "python",
   "nbconvert_exporter": "python",
   "pygments_lexer": "ipython3",
   "version": "3.12.3"
  }
 },
 "nbformat": 4,
 "nbformat_minor": 5
}
